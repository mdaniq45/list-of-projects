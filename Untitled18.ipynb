{
 "cells": [
  {
   "cell_type": "code",
   "execution_count": 13,
   "id": "f32616f9-06e8-48fe-a3db-15871a2b88b2",
   "metadata": {},
   "outputs": [
    {
     "name": "stdout",
     "output_type": "stream",
     "text": [
      "0\n",
      "But I don't want ANY spam!\n",
      "spamspamspamspam\n"
     ]
    }
   ],
   "source": [
    "spam_amount=0\n",
    "print(spam_amount)\n",
    "spam_amount=spam_amount+4\n",
    "if spam_amount >0:\n",
    "    print(\"But I don't want ANY spam!\")\n",
    "viking_song='spam' * spam_amount\n",
    "print(viking_song)\n",
    "    "
   ]
  },
  {
   "cell_type": "code",
   "execution_count": 14,
   "id": "659668fb-38bc-4d19-ad3c-15959dbee594",
   "metadata": {},
   "outputs": [
    {
     "ename": "NameError",
     "evalue": "name 'q1' is not defined",
     "output_type": "error",
     "traceback": [
      "\u001b[1;31m---------------------------------------------------------------------------\u001b[0m",
      "\u001b[1;31mNameError\u001b[0m                                 Traceback (most recent call last)",
      "Cell \u001b[1;32mIn[14], line 3\u001b[0m\n\u001b[0;32m      1\u001b[0m pi\u001b[38;5;241m=\u001b[39m\u001b[38;5;241m3.1415\u001b[39m\n\u001b[0;32m      2\u001b[0m diameter\u001b[38;5;241m=\u001b[39m\u001b[38;5;241m3\u001b[39m\n\u001b[1;32m----> 3\u001b[0m q1\u001b[38;5;241m.\u001b[39mcheck()\n",
      "\u001b[1;31mNameError\u001b[0m: name 'q1' is not defined"
     ]
    }
   ],
   "source": [
    "pi=3.1415\n",
    "diameter=3\n",
    "q1.check()"
   ]
  },
  {
   "cell_type": "code",
   "execution_count": null,
   "id": "67affae2-0ec2-4de0-8901-ecf71341bd06",
   "metadata": {},
   "outputs": [],
   "source": []
  }
 ],
 "metadata": {
  "kernelspec": {
   "display_name": "Python 3 (ipykernel)",
   "language": "python",
   "name": "python3"
  },
  "language_info": {
   "codemirror_mode": {
    "name": "ipython",
    "version": 3
   },
   "file_extension": ".py",
   "mimetype": "text/x-python",
   "name": "python",
   "nbconvert_exporter": "python",
   "pygments_lexer": "ipython3",
   "version": "3.11.5"
  },
  "widgets": {
   "application/vnd.jupyter.widget-state+json": {
    "state": {},
    "version_major": 2,
    "version_minor": 0
   }
  }
 },
 "nbformat": 4,
 "nbformat_minor": 5
}
