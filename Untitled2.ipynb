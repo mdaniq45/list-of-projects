{
 "cells": [
  {
   "cell_type": "code",
   "execution_count": 1,
   "id": "2421ab66",
   "metadata": {},
   "outputs": [
    {
     "ename": "NameError",
     "evalue": "name 'my_first_calculator' is not defined",
     "output_type": "error",
     "traceback": [
      "\u001b[1;31m---------------------------------------------------------------------------\u001b[0m",
      "\u001b[1;31mNameError\u001b[0m                                 Traceback (most recent call last)",
      "Input \u001b[1;32mIn [1]\u001b[0m, in \u001b[0;36m<cell line: 1>\u001b[1;34m()\u001b[0m\n\u001b[1;32m----> 1\u001b[0m \u001b[43mmy_first_calculator\u001b[49m\u001b[38;5;241m.\u001b[39mpy\u001b[38;5;241m-\u001b[39mmaster\u001b[38;5;241m.\u001b[39mzip\n",
      "\u001b[1;31mNameError\u001b[0m: name 'my_first_calculator' is not defined"
     ]
    }
   ],
   "source": [
    "my_first_calculator.py-master.zip"
   ]
  },
  {
   "cell_type": "code",
   "execution_count": null,
   "id": "5c88c673",
   "metadata": {},
   "outputs": [],
   "source": []
  }
 ],
 "metadata": {
  "kernelspec": {
   "display_name": "Python 3 (ipykernel)",
   "language": "python",
   "name": "python3"
  },
  "language_info": {
   "codemirror_mode": {
    "name": "ipython",
    "version": 3
   },
   "file_extension": ".py",
   "mimetype": "text/x-python",
   "name": "python",
   "nbconvert_exporter": "python",
   "pygments_lexer": "ipython3",
   "version": "3.11.5"
  }
 },
 "nbformat": 4,
 "nbformat_minor": 5
}
