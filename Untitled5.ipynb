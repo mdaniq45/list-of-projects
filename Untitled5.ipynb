{
 "cells": [
  {
   "cell_type": "code",
   "execution_count": 1,
   "id": "983bae26",
   "metadata": {},
   "outputs": [
    {
     "name": "stdout",
     "output_type": "stream",
     "text": [
      "[(0., 0) (0., 0)]\n"
     ]
    }
   ],
   "source": [
    "# Python Program illustrating\n",
    "# numpy.zeros method\n",
    "\n",
    "import numpy as geek\n",
    "\n",
    "# manipulation with data-types\n",
    "b = geek.zeros((2,), dtype=[('x', 'float'), ('y', 'int')])\n",
    "print(b)\n"
   ]
  },
  {
   "cell_type": "code",
   "execution_count": 2,
   "id": "7d0fbbc6",
   "metadata": {},
   "outputs": [
    {
     "name": "stdout",
     "output_type": "stream",
     "text": [
      "Horizontal Vector\n",
      "[1 2 3]\n",
      "----------------\n",
      "Vertical Vector\n",
      "[[10]\n",
      " [20]\n",
      " [30]]\n"
     ]
    }
   ],
   "source": [
    "# importing numpy \n",
    "import numpy as np \n",
    "\n",
    "# creating a 1-D list (Horizontal) \n",
    "list1 = [1, 2, 3] \n",
    "\n",
    "# creating a 1-D list (Vertical) \n",
    "list2 = [[10], \n",
    "\t\t[20], \n",
    "\t\t[30]] \n",
    "\n",
    "# creating a vector1 \n",
    "# vector as row \n",
    "vector1 = np.array(list1) \n",
    "\n",
    "# creating a vector 2 \n",
    "# vector as column \n",
    "vector2 = np.array(list2) \n",
    "\n",
    "\n",
    "# showing horizontal vector \n",
    "print(\"Horizontal Vector\") \n",
    "print(vector1) \n",
    "\n",
    "print(\"----------------\") \n",
    "\n",
    "# showing vertical vector \n",
    "print(\"Vertical Vector\") \n",
    "print(vector2) \n"
   ]
  },
  {
   "cell_type": "code",
   "execution_count": 3,
   "id": "b799fadc",
   "metadata": {},
   "outputs": [
    {
     "ename": "ModuleNotFoundError",
     "evalue": "No module named 'tensorflow'",
     "output_type": "error",
     "traceback": [
      "\u001b[1;31m---------------------------------------------------------------------------\u001b[0m",
      "\u001b[1;31mModuleNotFoundError\u001b[0m                       Traceback (most recent call last)",
      "Cell \u001b[1;32mIn[3], line 2\u001b[0m\n\u001b[0;32m      1\u001b[0m \u001b[38;5;66;03m# importing the dependencies\u001b[39;00m\n\u001b[1;32m----> 2\u001b[0m \u001b[38;5;28;01mimport\u001b[39;00m \u001b[38;5;21;01mtensorflow\u001b[39;00m \u001b[38;5;28;01mas\u001b[39;00m \u001b[38;5;21;01mtf\u001b[39;00m\n\u001b[0;32m      3\u001b[0m \u001b[38;5;28;01mimport\u001b[39;00m \u001b[38;5;21;01mnumpy\u001b[39;00m \u001b[38;5;28;01mas\u001b[39;00m \u001b[38;5;21;01mnp\u001b[39;00m\n\u001b[0;32m      4\u001b[0m \u001b[38;5;28;01mimport\u001b[39;00m \u001b[38;5;21;01mmatplotlib\u001b[39;00m\u001b[38;5;21;01m.\u001b[39;00m\u001b[38;5;21;01mpyplot\u001b[39;00m \u001b[38;5;28;01mas\u001b[39;00m \u001b[38;5;21;01mplt\u001b[39;00m\n",
      "\u001b[1;31mModuleNotFoundError\u001b[0m: No module named 'tensorflow'"
     ]
    }
   ],
   "source": [
    "# importing the dependencies\n",
    "import tensorflow as tf\n",
    "import numpy as np\n",
    "import matplotlib.pyplot as plt\n",
    "\n",
    "# Model Parameters\n",
    "learning_rate = 0.01\n",
    "training_epochs = 2000\n",
    "display_step = 200\n",
    "\n",
    "# Training Data\n",
    "train_X = np.asarray([3.3,4.4,5.5,6.71,6.93,4.168,9.779,6.182,7.59,2.167,\n",
    "\t\t\t\t\t\t7.042,10.791,5.313,7.997,5.654,9.27,3.1])\n",
    "train_y = np.asarray([1.7,2.76,2.09,3.19,1.694,1.573,3.366,2.596,2.53,1.221,\n",
    "\t\t\t\t\t\t2.827,3.465,1.65,2.904,2.42,2.94,1.3])\n",
    "n_samples = train_X.shape[0]\n",
    "\n",
    "# Test Data\n",
    "test_X = np.asarray([6.83, 4.668, 8.9, 7.91, 5.7, 8.7, 3.1, 2.1])\n",
    "test_y = np.asarray([1.84, 2.273, 3.2, 2.831, 2.92, 3.24, 1.35, 1.03])\n",
    "\n",
    "# Set placeholders for feature and target vectors\n",
    "X = tf.placeholder(tf.float32)\n",
    "y = tf.placeholder(tf.float32)\n",
    "\n",
    "# Set model weights and bias\n",
    "W = tf.Variable(np.random.randn(), name=\"weight\")\n",
    "b = tf.Variable(np.random.randn(), name=\"bias\")\n",
    "\n",
    "# Construct a linear model\n",
    "linear_model = W*X + b\n",
    "\n",
    "# Mean squared error\n",
    "cost = tf.reduce_sum(tf.square(linear_model - y)) / (2*n_samples)\n",
    "\n",
    "# Gradient descent\n",
    "optimizer = tf.train.GradientDescentOptimizer(learning_rate).minimize(cost)\n",
    "\n",
    "# Initializing the variables\n",
    "init = tf.global_variables_initializer()\n",
    "\n",
    "# Launch the graph\n",
    "with tf.Session() as sess:\n",
    "\t# Load initialized variables in current session\n",
    "\tsess.run(init)\n",
    "\n",
    "\t# Fit all training data\n",
    "\tfor epoch in range(training_epochs):\n",
    "\n",
    "\t\t# perform gradient descent step\n",
    "\t\tsess.run(optimizer, feed_dict={X: train_X, y: train_y})\n",
    "\t\t\n",
    "\t\t# Display logs per epoch step\n",
    "\t\tif (epoch+1) % display_step == 0:\n",
    "\t\t\tc = sess.run(cost, feed_dict={X: train_X, y: train_y})\n",
    "\t\t\tprint(\"Epoch:{0:6} \\t Cost:{1:10.4} \\t W:{2:6.4} \\t b:{3:6.4}\".\n",
    "\t\t\t\tformat(epoch+1, c, sess.run(W), sess.run(b)))\n",
    "\t\t\t\n",
    "\t# Print final parameter values\n",
    "\tprint(\"Optimization Finished!\")\n",
    "\ttraining_cost = sess.run(cost, feed_dict={X: train_X, y: train_y})\n",
    "\tprint(\"Final training cost:\", training_cost, \"W:\", sess.run(W), \"b:\", \n",
    "\t\tsess.run(b), '\\n')\n",
    "\t\n",
    "\t# Graphic display\n",
    "\tplt.plot(train_X, train_y, 'ro', label='Original data')\n",
    "\tplt.plot(train_X, sess.run(W) * train_X + sess.run(b), label='Fitted line')\n",
    "\tplt.legend()\n",
    "\tplt.show()\n",
    "\n",
    "\t# Testing the model\n",
    "\ttesting_cost = sess.run(tf.reduce_sum(tf.square(linear_model - y)) / (2 * test_X.shape[0]),\n",
    "\t\t\t\t\t\t\tfeed_dict={X: test_X, y: test_y})\n",
    "\t\n",
    "\tprint(\"Final testing cost:\", testing_cost)\n",
    "\tprint(\"Absolute mean square loss difference:\", abs(training_cost - testing_cost))\n",
    "\n",
    "\t# Display fitted line on test data\n",
    "\tplt.plot(test_X, test_y, 'bo', label='Testing data')\n",
    "\tplt.plot(train_X, sess.run(W) * train_X + sess.run(b), label='Fitted line')\n",
    "\tplt.legend()\n",
    "\tplt.show()\n"
   ]
  },
  {
   "cell_type": "code",
   "execution_count": null,
   "id": "a1fe5b19",
   "metadata": {},
   "outputs": [],
   "source": []
  }
 ],
 "metadata": {
  "kernelspec": {
   "display_name": "Python 3 (ipykernel)",
   "language": "python",
   "name": "python3"
  },
  "language_info": {
   "codemirror_mode": {
    "name": "ipython",
    "version": 3
   },
   "file_extension": ".py",
   "mimetype": "text/x-python",
   "name": "python",
   "nbconvert_exporter": "python",
   "pygments_lexer": "ipython3",
   "version": "3.11.5"
  }
 },
 "nbformat": 4,
 "nbformat_minor": 5
}
