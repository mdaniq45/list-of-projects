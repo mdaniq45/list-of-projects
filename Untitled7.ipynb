{
 "cells": [
  {
   "cell_type": "code",
   "execution_count": 1,
   "id": "bb0aa4d8-6e4b-4846-a345-3559fbdafde8",
   "metadata": {},
   "outputs": [
    {
     "ename": "ModuleNotFoundError",
     "evalue": "No module named 'tensorflow'",
     "output_type": "error",
     "traceback": [
      "\u001b[1;31m---------------------------------------------------------------------------\u001b[0m",
      "\u001b[1;31mModuleNotFoundError\u001b[0m                       Traceback (most recent call last)",
      "Cell \u001b[1;32mIn[1], line 4\u001b[0m\n\u001b[0;32m      2\u001b[0m \u001b[38;5;28;01mimport\u001b[39;00m \u001b[38;5;21;01mpandas\u001b[39;00m \u001b[38;5;28;01mas\u001b[39;00m \u001b[38;5;21;01mpd\u001b[39;00m \n\u001b[0;32m      3\u001b[0m \u001b[38;5;28;01mimport\u001b[39;00m \u001b[38;5;21;01mnumpy\u001b[39;00m \u001b[38;5;28;01mas\u001b[39;00m \u001b[38;5;21;01mnp\u001b[39;00m \n\u001b[1;32m----> 4\u001b[0m \u001b[38;5;28;01mimport\u001b[39;00m \u001b[38;5;21;01mtensorflow\u001b[39;00m \u001b[38;5;28;01mas\u001b[39;00m \u001b[38;5;21;01mtf\u001b[39;00m \n\u001b[0;32m      5\u001b[0m \u001b[38;5;28;01mimport\u001b[39;00m \u001b[38;5;21;01mmatplotlib\u001b[39;00m\u001b[38;5;21;01m.\u001b[39;00m\u001b[38;5;21;01mpyplot\u001b[39;00m \u001b[38;5;28;01mas\u001b[39;00m \u001b[38;5;21;01mplt\u001b[39;00m \n\u001b[0;32m      6\u001b[0m \u001b[38;5;28;01mfrom\u001b[39;00m \u001b[38;5;21;01mtensorflow\u001b[39;00m\u001b[38;5;21;01m.\u001b[39;00m\u001b[38;5;21;01mkeras\u001b[39;00m\u001b[38;5;21;01m.\u001b[39;00m\u001b[38;5;21;01mpreprocessing\u001b[39;00m\u001b[38;5;21;01m.\u001b[39;00m\u001b[38;5;21;01mimage\u001b[39;00m \u001b[38;5;28;01mimport\u001b[39;00m ImageDataGenerator\n",
      "\u001b[1;31mModuleNotFoundError\u001b[0m: No module named 'tensorflow'"
     ]
    }
   ],
   "source": [
    "import string \n",
    "import pandas as pd \n",
    "import numpy as np \n",
    "import tensorflow as tf \n",
    "import matplotlib.pyplot as plt \n",
    "from tensorflow.keras.preprocessing.image import ImageDataGenerator\n"
   ]
  },
  {
   "cell_type": "code",
   "execution_count": null,
   "id": "ac1852d2-0603-4c16-a048-dbc675f35a47",
   "metadata": {},
   "outputs": [],
   "source": [
    "df = pd.read_csv('/content/sign_mnist_train.csv') \n",
    "df.head()\n"
   ]
  },
  {
   "cell_type": "code",
   "execution_count": null,
   "id": "24e2da68-a4c2-4239-8ad8-5ca91a7dc400",
   "metadata": {},
   "outputs": [],
   "source": [
    "def load_data(path): \n",
    "\tdf = pd.read_csv(path) \n",
    "\ty = np.array([label if label < 9\n",
    "\t\t\t\telse label-1 for label in df['label']]) \n",
    "\tdf = df.drop('label', axis=1) \n",
    "\tx = np.array([df.iloc[i].to_numpy().reshape((28, 28)) \n",
    "\t\t\t\tfor i in range(len(df))]).astype(float) \n",
    "\tx = np.expand_dims(x, axis=3) \n",
    "\ty = pd.get_dummies(y).values \n",
    "\n",
    "\treturn x, y \n",
    "\n",
    "X_train, Y_train = load_data('/content/sign_mnist_train.csv') \n",
    "X_test, Y_test = load_data('/content/sign_mnist_test.csv') \n"
   ]
  },
  {
   "cell_type": "code",
   "execution_count": null,
   "id": "1ebd1366-c915-472f-b9a4-1737066efbea",
   "metadata": {},
   "outputs": [],
   "source": [
    "print(X_train.shape, Y_train.shape) \n",
    "print(X_test.shape, Y_test.shape)\n"
   ]
  },
  {
   "cell_type": "code",
   "execution_count": null,
   "id": "53b4671e-cb16-4c2b-b58a-c5612f7455c7",
   "metadata": {},
   "outputs": [],
   "source": [
    "class_names = list(string.ascii_lowercase[:26].replace( \n",
    "\t'j', '').replace('z', '')) \n",
    "\n",
    "plt.figure(figsize=(10, 10)) \n",
    "for i in range(10): \n",
    "\tplt.subplot(5, 5, i+1) \n",
    "\tplt.xticks([]) \n",
    "\tplt.yticks([]) \n",
    "\tplt.grid(False) \n",
    "\tplt.imshow(X_train[i].squeeze(), cmap=plt.cm.binary) \n",
    "\tplt.xlabel(class_names[np.argmax(Y_train, axis=1)[i]]) \n",
    "plt.tight_layout() \n",
    "plt.show() \n"
   ]
  },
  {
   "cell_type": "code",
   "execution_count": null,
   "id": "dba99ca6-92ca-47cf-9943-748101ce02a9",
   "metadata": {},
   "outputs": [],
   "source": [
    "model = tf.keras.models.Sequential([ \n",
    "\ttf.keras.layers.Conv2D(filters=32, \n",
    "\t\t\t\t\t\tkernel_size=(3, 3), \n",
    "\t\t\t\t\t\tactivation='relu', \n",
    "\t\t\t\t\t\tinput_shape=(28, 28, 1)), \n",
    "\ttf.keras.layers.MaxPooling2D(2, 2), \n",
    "\n",
    "\ttf.keras.layers.Conv2D(filters=64, \n",
    "\t\t\t\t\t\tkernel_size=(3, 3), \n",
    "\t\t\t\t\t\tactivation='relu'), \n",
    "\ttf.keras.layers.MaxPooling2D(2, 2), \n",
    "\n",
    "\ttf.keras.layers.Flatten(), \n",
    "\ttf.keras.layers.BatchNormalization(), \n",
    "\ttf.keras.layers.Dense(256, activation='relu'), \n",
    "\ttf.keras.layers.Dropout(0.3), \n",
    "\ttf.keras.layers.BatchNormalization(), \n",
    "\ttf.keras.layers.Dense(24, activation='softmax') \n",
    "]) \n"
   ]
  },
  {
   "cell_type": "code",
   "execution_count": null,
   "id": "0e263a66-5578-4054-bb01-0d20f4687804",
   "metadata": {},
   "outputs": [],
   "source": [
    "model.summary()\n"
   ]
  },
  {
   "cell_type": "code",
   "execution_count": null,
   "id": "c2ed556a-ad6d-4cfb-bc25-aa4828763d8d",
   "metadata": {},
   "outputs": [],
   "source": [
    "model.compile( \n",
    "\toptimizer='adam', \n",
    "\tloss='categorical_crossentropy', \n",
    "\tmetrics=['accuracy'] \n",
    ") \n"
   ]
  },
  {
   "cell_type": "code",
   "execution_count": null,
   "id": "1489526d-a146-4aba-96f1-c28c51b6bc32",
   "metadata": {},
   "outputs": [],
   "source": [
    "history = model.fit(train_generator, \n",
    "\t\t\t\t\tvalidation_data=val_generator, \n",
    "\t\t\t\t\tepochs=5, \n",
    "\t\t\t\t\tverbose=1) \n"
   ]
  },
  {
   "cell_type": "code",
   "execution_count": null,
   "id": "35f7b331-41fb-41f9-af28-7dd0e3024875",
   "metadata": {},
   "outputs": [],
   "source": [
    "history_df = pd.DataFrame(history.history) \n",
    "history_df.loc[:,['loss','val_loss']].plot() \n",
    "history_df.loc[:,['accuracy','val_accuracy']].plot() \n",
    "plt.show()\n"
   ]
  },
  {
   "cell_type": "code",
   "execution_count": null,
   "id": "acb7ab4d-a8e7-4802-848c-c725155e5658",
   "metadata": {},
   "outputs": [],
   "source": [
    "model.evaluate(val_generator)\n"
   ]
  }
 ],
 "metadata": {
  "kernelspec": {
   "display_name": "Python 3 (ipykernel)",
   "language": "python",
   "name": "python3"
  },
  "language_info": {
   "codemirror_mode": {
    "name": "ipython",
    "version": 3
   },
   "file_extension": ".py",
   "mimetype": "text/x-python",
   "name": "python",
   "nbconvert_exporter": "python",
   "pygments_lexer": "ipython3",
   "version": "3.11.5"
  }
 },
 "nbformat": 4,
 "nbformat_minor": 5
}
