{
 "cells": [
  {
   "cell_type": "code",
   "execution_count": 1,
   "id": "3816baf8-0c3d-466d-9911-ef74d2a1cb21",
   "metadata": {},
   "outputs": [
    {
     "ename": "ModuleNotFoundError",
     "evalue": "No module named 'tensorflow'",
     "output_type": "error",
     "traceback": [
      "\u001b[1;31m---------------------------------------------------------------------------\u001b[0m",
      "\u001b[1;31mModuleNotFoundError\u001b[0m                       Traceback (most recent call last)",
      "Cell \u001b[1;32mIn[1], line 1\u001b[0m\n\u001b[1;32m----> 1\u001b[0m \u001b[38;5;28;01mimport\u001b[39;00m \u001b[38;5;21;01mtensorflow\u001b[39;00m \u001b[38;5;28;01mas\u001b[39;00m \u001b[38;5;21;01mtf\u001b[39;00m\n\u001b[0;32m      3\u001b[0m \u001b[38;5;66;03m# Create nodes (constants)\u001b[39;00m\n\u001b[0;32m      4\u001b[0m node1 \u001b[38;5;241m=\u001b[39m tf\u001b[38;5;241m.\u001b[39mconstant(\u001b[38;5;241m3\u001b[39m, dtype\u001b[38;5;241m=\u001b[39mtf\u001b[38;5;241m.\u001b[39mint32)\n",
      "\u001b[1;31mModuleNotFoundError\u001b[0m: No module named 'tensorflow'"
     ]
    }
   ],
   "source": [
    "import tensorflow as tf\n",
    "\n",
    "# Create nodes (constants)\n",
    "node1 = tf.constant(3, dtype=tf.int32)\n",
    "node2 = tf.constant(5, dtype=tf.int32)\n",
    "\n",
    "# Add nodes to get the sum\n",
    "node3 = tf.add(node1, node2)\n",
    "\n",
    "# Create a session to evaluate the graph\n",
    "with tf.compat.v1.Session() as sess:\n",
    "    result = sess.run(node3)\n",
    "    print(\"Sum of node1 and node2 is:\", result)"
   ]
  },
  {
   "cell_type": "code",
   "execution_count": null,
   "id": "d092474f-5adb-41ce-b31d-6c81aaeca8f9",
   "metadata": {},
   "outputs": [],
   "source": []
  }
 ],
 "metadata": {
  "kernelspec": {
   "display_name": "Python 3 (ipykernel)",
   "language": "python",
   "name": "python3"
  },
  "language_info": {
   "codemirror_mode": {
    "name": "ipython",
    "version": 3
   },
   "file_extension": ".py",
   "mimetype": "text/x-python",
   "name": "python",
   "nbconvert_exporter": "python",
   "pygments_lexer": "ipython3",
   "version": "3.11.5"
  }
 },
 "nbformat": 4,
 "nbformat_minor": 5
}
