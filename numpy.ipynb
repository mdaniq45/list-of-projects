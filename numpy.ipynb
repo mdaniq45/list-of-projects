{
 "cells": [
  {
   "cell_type": "code",
   "execution_count": 6,
   "id": "6c71393d-3b12-4ac8-a0b8-98ede5e75714",
   "metadata": {},
   "outputs": [
    {
     "name": "stdout",
     "output_type": "stream",
     "text": [
      "[ 31  43  33  32 323]\n"
     ]
    }
   ],
   "source": [
    "import numpy as np \n",
    "#arr=np.array([31,43,33,32,323])\n",
    "#x=([true,fals,true,fals,true])\n",
    "#newarr=arr[x]\n",
    "print(arr)\n"
   ]
  },
  {
   "cell_type": "code",
   "execution_count": 9,
   "id": "0216c367-5ef8-44ea-b97a-237cd123ae5e",
   "metadata": {},
   "outputs": [
    {
     "name": "stdout",
     "output_type": "stream",
     "text": [
      "['apple' 'goava' 'graps' 'mango' 'papaya']\n"
     ]
    }
   ],
   "source": [
    "#arr=np.array([3,4,34,34,33])\n",
    "arr=np.array(['mango','goava','papaya','apple','graps'])\n",
    "print(np.sort(arr))"
   ]
  },
  {
   "cell_type": "code",
   "execution_count": 24,
   "id": "0902a3db-28c5-45d7-842c-59e49b88dc35",
   "metadata": {},
   "outputs": [
    {
     "name": "stdout",
     "output_type": "stream",
     "text": [
      "[   3    6   22   34   34   36   42  245  324  343  375  534 4534]\n",
      "[324]\n",
      "<class 'numpy.ndarray'>\n",
      "[ 324   42  245 4534    3  534  343    6   34   36  375   34   22]\n"
     ]
    }
   ],
   "source": [
    "arr1=np.array([324,42,245,4534,3,534])\n",
    "                 \n",
    "arr2=np.array([343,6,34,36,375,34,22])\n",
    "#for x in arr1;\n",
    "#print(x)\n",
    "arr=np.concatenate([arr1,arr2])\n",
    "print(np.sort(arr))\n",
    "\n",
    "#arr[1]=12\n",
    "print(arr1[0:1])\n",
    "print(type(arr))\n",
    "#print(arr,dtype)\n",
    "print(arr)"
   ]
  },
  {
   "cell_type": "raw",
   "id": "4a617b76-42d5-4c7c-8aeb-85831f3ec04c",
   "metadata": {},
   "source": []
  },
  {
   "cell_type": "code",
   "execution_count": null,
   "id": "70707c9f-027d-44b9-b163-68ee53d48d4c",
   "metadata": {},
   "outputs": [],
   "source": []
  }
 ],
 "metadata": {
  "kernelspec": {
   "display_name": "Python 3 (ipykernel)",
   "language": "python",
   "name": "python3"
  },
  "language_info": {
   "codemirror_mode": {
    "name": "ipython",
    "version": 3
   },
   "file_extension": ".py",
   "mimetype": "text/x-python",
   "name": "python",
   "nbconvert_exporter": "python",
   "pygments_lexer": "ipython3",
   "version": "3.11.5"
  }
 },
 "nbformat": 4,
 "nbformat_minor": 5
}
