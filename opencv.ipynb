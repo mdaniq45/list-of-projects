{
 "cells": [
  {
   "cell_type": "code",
   "execution_count": null,
   "id": "a65d089d-df3d-48f5-a836-57b5b2f8ca51",
   "metadata": {},
   "outputs": [],
   "source": []
  },
  {
   "cell_type": "code",
   "execution_count": 1,
   "id": "c1e785a7-3775-44d9-9af8-532b81418090",
   "metadata": {},
   "outputs": [
    {
     "ename": "NameError",
     "evalue": "name 'img' is not defined",
     "output_type": "error",
     "traceback": [
      "\u001b[1;31m---------------------------------------------------------------------------\u001b[0m",
      "\u001b[1;31mNameError\u001b[0m                                 Traceback (most recent call last)",
      "Cell \u001b[1;32mIn[1], line 11\u001b[0m\n\u001b[0;32m      6\u001b[0m path \u001b[38;5;241m=\u001b[39m \u001b[38;5;124mr\u001b[39m\u001b[38;5;124m'\u001b[39m\u001b[38;5;124mC:\u001b[39m\u001b[38;5;124m\\\u001b[39m\u001b[38;5;124mUsers\u001b[39m\u001b[38;5;124m\\\u001b[39m\u001b[38;5;124mhi\u001b[39m\u001b[38;5;124m\\\u001b[39m\u001b[38;5;124mPictures\u001b[39m\u001b[38;5;124m\\\u001b[39m\u001b[38;5;124mCamera Roll\u001b[39m\u001b[38;5;124m\\\u001b[39m\u001b[38;5;124mimg data\u001b[39m\u001b[38;5;124m\\\u001b[39m\u001b[38;5;124mwatch.jpg\u001b[39m\u001b[38;5;124m'\u001b[39m\n\u001b[0;32m      8\u001b[0m \u001b[38;5;66;03m# Creating GUI window to display an image on screen\u001b[39;00m\n\u001b[0;32m      9\u001b[0m \u001b[38;5;66;03m# first Parameter is windows title (should be in string format)\u001b[39;00m\n\u001b[0;32m     10\u001b[0m \u001b[38;5;66;03m# Second Parameter is image array\u001b[39;00m\n\u001b[1;32m---> 11\u001b[0m cv2\u001b[38;5;241m.\u001b[39mimshow(\u001b[38;5;124m\"\u001b[39m\u001b[38;5;124mimage\u001b[39m\u001b[38;5;124m\"\u001b[39m, img)\n\u001b[0;32m     13\u001b[0m \u001b[38;5;66;03m# To hold the window on screen, we use cv2.waitKey method\u001b[39;00m\n\u001b[0;32m     14\u001b[0m \u001b[38;5;66;03m# Once it detected the close input, it will release the control\u001b[39;00m\n\u001b[0;32m     15\u001b[0m \u001b[38;5;66;03m# To the next line\u001b[39;00m\n\u001b[0;32m     16\u001b[0m \u001b[38;5;66;03m# First Parameter is for holding screen for specified milliseconds\u001b[39;00m\n\u001b[0;32m     17\u001b[0m \u001b[38;5;66;03m# It should be positive integer. If 0 pass an parameter, then it will\u001b[39;00m\n\u001b[0;32m     18\u001b[0m \u001b[38;5;66;03m# hold the screen until user close it.\u001b[39;00m\n\u001b[0;32m     19\u001b[0m cv2\u001b[38;5;241m.\u001b[39mwaitKey(\u001b[38;5;241m0\u001b[39m)\n",
      "\u001b[1;31mNameError\u001b[0m: name 'img' is not defined"
     ]
    }
   ],
   "source": [
    "# Python code to read image\n",
    "import cv2\n",
    "\n",
    "# To read image from disk, we use\n",
    "# cv2.imread function, in below method,\n",
    "path = r'C:\\Users\\hi\\Pictures\\Camera Roll\\img data\\watch.jpg'\n",
    "\n",
    "# Creating GUI window to display an image on screen\n",
    "# first Parameter is windows title (should be in string format)\n",
    "# Second Parameter is image array\n",
    "cv2.imshow(\"image\", img)\n",
    "\n",
    "# To hold the window on screen, we use cv2.waitKey method\n",
    "# Once it detected the close input, it will release the control\n",
    "# To the next line\n",
    "# First Parameter is for holding screen for specified milliseconds\n",
    "# It should be positive integer. If 0 pass an parameter, then it will\n",
    "# hold the screen until user close it.\n",
    "cv2.waitKey(0)\n",
    "\n",
    "# It is for removing/deleting created GUI window from screen\n",
    "# and memory\n",
    "cv2.destroyAllWindows()\n"
   ]
  },
  {
   "cell_type": "code",
   "execution_count": null,
   "id": "971260ea-324a-4648-b901-264734aa224e",
   "metadata": {},
   "outputs": [],
   "source": [
    "# Python program to explain cv2.imread() method \n",
    "\n",
    "# importing cv2 \n",
    "import cv2 \n",
    "\n",
    "# path \n",
    "path = r'watc.png'\n",
    "\n",
    "# Using cv2.imread() method \n",
    "# Using 0 to read image in grayscale mode \n",
    "img = cv2.imread(path, cv2.IMREAD_GRAYSCALE) \n",
    "\n",
    "# Displaying the image \n",
    "cv2.imshow('image', img) \n",
    "cv2.waitKey(0)\n",
    "cv2.destroyAllWindows()\n"
   ]
  },
  {
   "cell_type": "code",
   "execution_count": null,
   "id": "75b14331-d5d2-46d9-be9f-e1b0248cd10c",
   "metadata": {},
   "outputs": [],
   "source": [
    "# Python program to explain cv2.imshow() method \n",
    "\n",
    "# importing cv2 \n",
    "import cv2 \n",
    "\n",
    "# path \n",
    "path = r'C:\\Users\\hi\\Pictures\\Camera Roll\\img data\\geeksforgeeks.png'\n",
    "\n",
    "# Reading an image in default mode \n",
    "image = cv2.imread(path) \n",
    "\n",
    "# Window name in which image is displayed \n",
    "window_name = 'image'\n",
    "\n",
    "# Using cv2.imshow() method \n",
    "# Displaying the image \n",
    "cv2.imshow(window_name, image) \n",
    "\n",
    "# waits for user to press any key \n",
    "# (this is necessary to avoid Python kernel form crashing) \n",
    "cv2.waitKey(1) \n",
    "\n",
    "# closing all open windows \n",
    "cv2.destroyAllWindows() \n"
   ]
  },
  {
   "cell_type": "code",
   "execution_count": null,
   "id": "a28d838f-4943-4426-a1fa-f34ace99741f",
   "metadata": {},
   "outputs": [],
   "source": [
    "\n",
    "\n",
    "using namespace cv; \n",
    "using namespace std; \n",
    "\n",
    "int main(int argc, char** argv) \n",
    "{ \n",
    "\n",
    "\t// Reading the image file from a given location in system \n",
    "\tMat img = imread(\"..path\\\\abcd.jpg\"); \n",
    "\n",
    "\t// if there is no image \n",
    "\t// or in case of error \n",
    "\tif (img.empty()) { \n",
    "\t\tcout << \"Can not open or image is not present\" << endl; \n",
    "\n",
    "\t\t// wait for any key to be pressed \n",
    "\t\tcin.get(); \n",
    "\t\treturn -1; \n",
    "\t} \n",
    "\n",
    "\t// You can make any changes \n",
    "\t// like blurring, transformation \n",
    "\n",
    "\t// writing the image to a defined location as JPEG \n",
    "\tbool check = imwrite(\"..path\\\\MyImage.jpg\", img); \n",
    "\n",
    "\t// if the image is not saved \n",
    "\tif (check == false) { \n",
    "\t\tcout << \"Mission - Saving the image, FAILED\" << endl; \n",
    "\n",
    "\t\t// wait for any key to be pressed \n",
    "\t\tcin.get(); \n",
    "\t\treturn -1; \n",
    "\t} \n",
    "\n",
    "\tcout << \"Successfully saved the image. \" << endl; \n",
    "\n",
    "\t// Naming the window \n",
    "\tString geek_window = \"MY SAVED IMAGE\"; \n",
    "\n",
    "\t// Creating a window \n",
    "\tnamedWindow(geek_window); \n",
    "\n",
    "\t// Showing the image in the defined window \n",
    "\timshow(geek_window, img); \n",
    "\n",
    "\t// waiting for any key to be pressed \n",
    "\twaitKey(0); \n",
    "\n",
    "\t// destroying the creating window \n",
    "\tdestroyWindow(geek_window); \n",
    "\n",
    "\treturn 0; \n",
    "} \n"
   ]
  },
  {
   "cell_type": "code",
   "execution_count": null,
   "id": "49e86ac5-0a1e-4f36-88ec-9128fb19b7ae",
   "metadata": {},
   "outputs": [],
   "source": [
    "#import cv2, numpy and matplotlib libraries\n",
    "import cv2\n",
    "import numpy as np\n",
    "import matplotlib.pyplot as plt\n",
    "img=cv2.imread(\"geeks.png\")\n",
    "#Displaying image using plt.imshow() method\n",
    "plt.imshow(img)\n",
    "\n",
    "#hold the window\n",
    "plt.waitforbuttonpress()\n",
    "plt.close('all')\n"
   ]
  },
  {
   "cell_type": "code",
   "execution_count": null,
   "id": "bdd696af-96ac-4f6c-b397-40c2d58725ac",
   "metadata": {},
   "outputs": [],
   "source": [
    "#import cv2, numpy and matplotlib libraries\n",
    "import cv2\n",
    "import numpy as np\n",
    "import matplotlib.pyplot as plt\n",
    "img=cv2.imread(\"geeks.png\")\n",
    "\n",
    "# Converting BGR color to RGB color format\n",
    "RGB_img = cv2.cvtColor(img, cv2.COLOR_BGR2RGB)\n",
    "\n",
    "#Displaying image using plt.imshow() method\n",
    "plt.imshow(RGB_img)\n",
    "\n",
    "# hold the window\n",
    "plt.waitforbuttonpress()\n",
    "plt.close('all')\n"
   ]
  },
  {
   "cell_type": "code",
   "execution_count": 6,
   "id": "94f232d2-82d4-49c1-b6d0-80b4df48a88d",
   "metadata": {},
   "outputs": [
    {
     "ename": "SyntaxError",
     "evalue": "(unicode error) 'unicodeescape' codec can't decode bytes in position 2-3: truncated \\UXXXXXXXX escape (3999938427.py, line 3)",
     "output_type": "error",
     "traceback": [
      "\u001b[1;36m  Cell \u001b[1;32mIn[6], line 3\u001b[1;36m\u001b[0m\n\u001b[1;33m    image = cv2.imread('C:\\Users\\hi\\Pictures\\Camera Roll\\img data')\u001b[0m\n\u001b[1;37m                                                                  ^\u001b[0m\n\u001b[1;31mSyntaxError\u001b[0m\u001b[1;31m:\u001b[0m (unicode error) 'unicodeescape' codec can't decode bytes in position 2-3: truncated \\UXXXXXXXX escape\n"
     ]
    }
   ],
   "source": [
    "import cv2 \n",
    "\n",
    "image = cv2.imread('C:\\Users\\hi\\Pictures\\Camera Roll\\img data\\')\n",
    "B, G, R = cv2.split(image) \n",
    "# Corresponding channels are separated \n",
    "\n",
    "cv2.imshow(\"original\", image) \n",
    "cv2.waitKey(0) \n",
    "\n",
    "cv2.imshow(\"blue\", B) \n",
    "cv2.waitKey(0) \n",
    "\n",
    "cv2.imshow(\"Green\", G) \n",
    "cv2.waitKey(0) \n",
    "\n",
    "cv2.imshow(\"red\", R) \n",
    "cv2.waitKey(0) \n",
    "\n",
    "cv2.destroyAllWindows() \n"
   ]
  },
  {
   "cell_type": "code",
   "execution_count": 15,
   "id": "18fbb281-f0da-4a25-b3d4-4b757f01e874",
   "metadata": {},
   "outputs": [
    {
     "ename": "ModuleNotFoundError",
     "evalue": "No module named 'opencv'",
     "output_type": "error",
     "traceback": [
      "\u001b[1;31m---------------------------------------------------------------------------\u001b[0m",
      "\u001b[1;31mModuleNotFoundError\u001b[0m                       Traceback (most recent call last)",
      "Cell \u001b[1;32mIn[15], line 1\u001b[0m\n\u001b[1;32m----> 1\u001b[0m \u001b[38;5;28;01mimport\u001b[39;00m \u001b[38;5;21;01mopencv\u001b[39;00m\n\u001b[0;32m      3\u001b[0m \u001b[38;5;66;03m# Read an image (replace 'watch.jpg' with the path to your image)\u001b[39;00m\n\u001b[0;32m      4\u001b[0m img \u001b[38;5;241m=\u001b[39m cv2\u001b[38;5;241m.\u001b[39mimread(\u001b[38;5;124m'\u001b[39m\u001b[38;5;124mwatch.jpg\u001b[39m\u001b[38;5;124m'\u001b[39m, cv2\u001b[38;5;241m.\u001b[39mIMREAD_GRAYSCALE)\n",
      "\u001b[1;31mModuleNotFoundError\u001b[0m: No module named 'opencv'"
     ]
    }
   ],
   "source": [
    "\n",
    "import opencv\n",
    "\n",
    "# Read an image (replace 'watch.jpg' with the path to your image)\n",
    "img = cv2.imread('watch.jpg', cv2.IMREAD_GRAYSCALE)\n",
    "\n",
    "# Show the image\n",
    "cv2.imshow('image', img)\n",
    "cv2.waitKey(0)\n",
    "cv2.destroyAllWindows()\n"
   ]
  },
  {
   "cell_type": "code",
   "execution_count": 14,
   "id": "183e047f-ff42-4a8b-b30c-4bd686ac02d6",
   "metadata": {},
   "outputs": [
    {
     "name": "stderr",
     "output_type": "stream",
     "text": [
      "ERROR: Could not find a version that satisfies the requirement opencv (from versions: none)\n",
      "ERROR: No matching distribution found for opencv\n"
     ]
    }
   ],
   "source": [
    " !pip install opencv\n"
   ]
  },
  {
   "cell_type": "code",
   "execution_count": 13,
   "id": "34822cd0-ecbb-4b46-a0a9-52e7a1e01b09",
   "metadata": {},
   "outputs": [
    {
     "ename": "ModuleNotFoundError",
     "evalue": "No module named 'opencv2'",
     "output_type": "error",
     "traceback": [
      "\u001b[1;31m---------------------------------------------------------------------------\u001b[0m",
      "\u001b[1;31mModuleNotFoundError\u001b[0m                       Traceback (most recent call last)",
      "Cell \u001b[1;32mIn[13], line 1\u001b[0m\n\u001b[1;32m----> 1\u001b[0m \u001b[38;5;28;01mimport\u001b[39;00m \u001b[38;5;21;01mopencv2\u001b[39;00m\n",
      "\u001b[1;31mModuleNotFoundError\u001b[0m: No module named 'opencv2'"
     ]
    }
   ],
   "source": [
    "import opencv2"
   ]
  },
  {
   "cell_type": "code",
   "execution_count": 18,
   "id": "f281327e-e988-481d-8ff2-7d25b7b3217f",
   "metadata": {},
   "outputs": [
    {
     "ename": "ModuleNotFoundError",
     "evalue": "No module named 'CV2'",
     "output_type": "error",
     "traceback": [
      "\u001b[1;31m---------------------------------------------------------------------------\u001b[0m",
      "\u001b[1;31mModuleNotFoundError\u001b[0m                       Traceback (most recent call last)",
      "Cell \u001b[1;32mIn[18], line 1\u001b[0m\n\u001b[1;32m----> 1\u001b[0m \u001b[38;5;28;01mimport\u001b[39;00m \u001b[38;5;21;01mCV2\u001b[39;00m\n",
      "\u001b[1;31mModuleNotFoundError\u001b[0m: No module named 'CV2'"
     ]
    }
   ],
   "source": [
    "import CV2"
   ]
  },
  {
   "cell_type": "code",
   "execution_count": null,
   "id": "26f4fa7f-a770-4cde-b330-301ca955d8b3",
   "metadata": {},
   "outputs": [],
   "source": []
  },
  {
   "cell_type": "code",
   "execution_count": null,
   "id": "72ec8265-db6b-4e26-a913-558fb7665cb5",
   "metadata": {},
   "outputs": [],
   "source": []
  }
 ],
 "metadata": {
  "kernelspec": {
   "display_name": "Python 3 (ipykernel)",
   "language": "python",
   "name": "python3"
  },
  "language_info": {
   "codemirror_mode": {
    "name": "ipython",
    "version": 3
   },
   "file_extension": ".py",
   "mimetype": "text/x-python",
   "name": "python",
   "nbconvert_exporter": "python",
   "pygments_lexer": "ipython3",
   "version": "3.11.5"
  },
  "widgets": {
   "application/vnd.jupyter.widget-state+json": {
    "state": {},
    "version_major": 2,
    "version_minor": 0
   }
  }
 },
 "nbformat": 4,
 "nbformat_minor": 5
}
